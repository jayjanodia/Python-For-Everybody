{
 "cells": [
  {
   "cell_type": "markdown",
   "metadata": {},
   "source": [
    "## Problem Statement:\n",
    "Write a program that repeatedly prompts a user for integer numbers until the user enters 'done'. Once 'done' is entered, print out the largest and smallest of the numbers. If the user enters anything other than a valid number catch it with a try/except and put out an appropriate message and ignore the number. Enter 7, 2, bob, 10, and 4 and match the output below."
   ]
  },
  {
   "cell_type": "code",
   "execution_count": 1,
   "metadata": {},
   "outputs": [
    {
     "name": "stdin",
     "output_type": "stream",
     "text": [
      "Please enter integer input ('done' to exit) 7\n",
      "Please enter integer input ('done' to exit) 2\n",
      "Please enter integer input ('done' to exit) bob\n"
     ]
    },
    {
     "name": "stdout",
     "output_type": "stream",
     "text": [
      "Invalid input\n"
     ]
    },
    {
     "name": "stdin",
     "output_type": "stream",
     "text": [
      "Please enter integer input ('done' to exit) 10\n",
      "Please enter integer input ('done' to exit) 4\n",
      "Please enter integer input ('done' to exit) done\n"
     ]
    },
    {
     "name": "stdout",
     "output_type": "stream",
     "text": [
      "Maximum is 10\n",
      "Minimum is 2\n"
     ]
    }
   ],
   "source": [
    "largest = None\n",
    "smallest = None\n",
    "\n",
    "while True:\n",
    "    try:\n",
    "        input_user = input(\"Please enter integer input ('done' to exit)\")    \n",
    "        if input_user == 'Done'.lower():\n",
    "            break\n",
    "        n = int(input_user)\n",
    "        \n",
    "        if largest is None:\n",
    "            largest = n\n",
    "        elif n > largest:\n",
    "            largest = n\n",
    "        \n",
    "        if smallest is None:\n",
    "            smallest = n\n",
    "        elif n < smallest:\n",
    "            smallest = n\n",
    "    except:\n",
    "        print('Invalid input')\n",
    "        continue\n",
    "    \n",
    "print('Maximum is', largest)\n",
    "print('Minimum is', smallest)"
   ]
  },
  {
   "cell_type": "code",
   "execution_count": null,
   "metadata": {},
   "outputs": [],
   "source": []
  }
 ],
 "metadata": {
  "kernelspec": {
   "display_name": "Python 3",
   "language": "python",
   "name": "python3"
  },
  "language_info": {
   "codemirror_mode": {
    "name": "ipython",
    "version": 3
   },
   "file_extension": ".py",
   "mimetype": "text/x-python",
   "name": "python",
   "nbconvert_exporter": "python",
   "pygments_lexer": "ipython3",
   "version": "3.7.4"
  }
 },
 "nbformat": 4,
 "nbformat_minor": 4
}
